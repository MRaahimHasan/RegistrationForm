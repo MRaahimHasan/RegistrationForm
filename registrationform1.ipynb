{
 "cells": [
  {
   "cell_type": "code",
   "execution_count": 1,
   "id": "84b32885",
   "metadata": {},
   "outputs": [],
   "source": [
    "import tkinter as tk"
   ]
  },
  {
   "cell_type": "code",
   "execution_count": 2,
   "id": "f2a9846c",
   "metadata": {},
   "outputs": [],
   "source": [
    "from tkinter import *"
   ]
  },
  {
   "cell_type": "code",
   "execution_count": 3,
   "id": "6d15247f",
   "metadata": {},
   "outputs": [],
   "source": [
    "from random import randint"
   ]
  },
  {
   "cell_type": "code",
   "execution_count": 4,
   "id": "e3ce4324",
   "metadata": {},
   "outputs": [],
   "source": [
    "from tkinter import ttk"
   ]
  },
  {
   "cell_type": "code",
   "execution_count": 24,
   "id": "365d7f7b",
   "metadata": {},
   "outputs": [],
   "source": [
    "form = Tk()\n",
    "form.config(bg='white')\n",
    "form.geometry('400x400')\n",
    "form.title('Registration Form')\n",
    "form.resizable(0,0)\n",
    "\n",
    "Rf = Label(form, text=\"Registration Form\")\n",
    "\n",
    "Name = Label(form, text='Name:')\n",
    "Email = Label(form, text='Email:')\n",
    "Gender = Label(form, text='Gender:')\n",
    "var3=IntVar()\n",
    "Male = Radiobutton(form, text=\"Male\", variable=var3)\n",
    "var4=IntVar()\n",
    "Female = Radiobutton(form, text=\"Female\", variable=var4)\n",
    "Country = Label(form, text='Country:')\n",
    "Programming = Label(form, text='Programming')\n",
    "\n",
    "Countryy = tk.StringVar()\n",
    "Country_choosen=ttk.Combobox(form,width=4)\n",
    "Country_choosen['values']=[\"Other\",\"Pakistan\",\"America\",\"England\"]\n",
    "Country_choosen.current(0)\n",
    "\n",
    "var1=IntVar()\n",
    "box=Checkbutton(form, text=\"Java\", variable=var1)\n",
    "box.deselect()\n",
    "\n",
    "var2=IntVar()\n",
    "box2=Checkbutton(form, text=\"Python\", variable=var2)\n",
    "box.deselect()\n",
    "\n",
    "Rf.grid(row=0,column=0)\n",
    "Name.grid(row = 1, column = 0)\n",
    "Email.grid(row = 2, column = 0)\n",
    "Gender.grid(row=4, column=0)\n",
    "Male.grid(row=4, column=1)\n",
    "Female.grid(row=4, column=2)\n",
    "Country.grid(row=5, column=0)\n",
    "Country_choosen.grid(column=1,row=5)\n",
    "Programming.grid(row=6, column=0)\n",
    "box.grid(row=6,column=1)\n",
    "box2.grid(row=6,column=2)\n",
    "\n",
    " \n",
    "\n",
    "e1 = Entry(form)\n",
    "e2 = Entry(form)\n",
    " \n",
    "\n",
    "e1.grid(row = 1, column = 1)\n",
    "e2.grid(row = 2, column = 1)\n",
    "\n",
    "\n",
    "def button():\n",
    "    Success = Tk()\n",
    "    Success.geometry(\"300x300\")\n",
    "    Success.title(\"Success\")\n",
    "    Success.resizable(0,0)\n",
    "        \n",
    "    a = Label(Success, text=\"Successfully Registered\")\n",
    "    a.grid(column=50,row=50)\n",
    "    \n",
    "button=Button(form,text=\"Submit\",bg=\"blue\",fg=\"black\", command=button)\n",
    "button.grid(row = 7, column = 0)\n",
    "\n",
    "mainloop()"
   ]
  },
  {
   "cell_type": "code",
   "execution_count": null,
   "id": "224c0648",
   "metadata": {},
   "outputs": [],
   "source": []
  }
 ],
 "metadata": {
  "kernelspec": {
   "display_name": "Python 3 (ipykernel)",
   "language": "python",
   "name": "python3"
  },
  "language_info": {
   "codemirror_mode": {
    "name": "ipython",
    "version": 3
   },
   "file_extension": ".py",
   "mimetype": "text/x-python",
   "name": "python",
   "nbconvert_exporter": "python",
   "pygments_lexer": "ipython3",
   "version": "3.8.9"
  }
 },
 "nbformat": 4,
 "nbformat_minor": 5
}

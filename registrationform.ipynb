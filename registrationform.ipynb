{
 "cells": [
  {
   "cell_type": "code",
   "execution_count": null,
   "id": "26e01459",
   "metadata": {},
   "outputs": [],
   "source": [
    "Create wordle a word game that will display different alphabets on the screen by using grid (you can use\n",
    "different colours for each grid). Users have to find the given words in the wordle by clicking on the word.\n",
    "When the user clicks on the word, the colour of the grid will change into green."
   ]
  },
  {
   "cell_type": "code",
   "execution_count": 1,
   "id": "b72d8ec4",
   "metadata": {},
   "outputs": [],
   "source": [
    "import tkinter as tk"
   ]
  },
  {
   "cell_type": "code",
   "execution_count": 2,
   "id": "7a16a337",
   "metadata": {},
   "outputs": [],
   "source": [
    "from tkinter import *"
   ]
  },
  {
   "cell_type": "code",
   "execution_count": 7,
   "id": "58872713",
   "metadata": {},
   "outputs": [],
   "source": [
    "from random import randint"
   ]
  },
  {
   "cell_type": "code",
   "execution_count": 166,
   "id": "6903e889",
   "metadata": {},
   "outputs": [],
   "source": [
    "from tkinter import ttk"
   ]
  },
  {
   "cell_type": "code",
   "execution_count": 179,
   "id": "ae1cb44d",
   "metadata": {},
   "outputs": [],
   "source": [
    "form = Tk()\n",
    "form.config(bg='white')\n",
    "form.geometry('400x400')\n",
    "form.title('Registration Form')\n",
    "form.resizable(0,0)\n",
    "\n",
    "\n",
    "Name = Label(form, text='Name:')\n",
    "Email = Label(form, text='Email:')\n",
    "Gender = Label(form, text='Gender:')\n",
    "Male = Radiobutton(form, text='Male')\n",
    "Male.select()\n",
    "Female = Radiobutton(form, text='Female')\n",
    "Female.select()\n",
    "Country = Label(form, text='Country:')\n",
    "Programming = Label(form, text='Programming')\n",
    "\n",
    "Countryy = tk.StringVar()\n",
    "Country_choosen=ttk.Combobox(form,width=4)\n",
    "Country_choosen['values']=[\"Other\",\"Pakistan\",\"America\",\"England\"]\n",
    "Country_choosen.current(0)\n",
    "\n",
    "var1=IntVar()\n",
    "box=Checkbutton(form, text=\"Java\", variable=var1)\n",
    "box.deselect()\n",
    "\n",
    "var2=IntVar()\n",
    "box2=Checkbutton(form, text=\"Python\", variable=var2)\n",
    "box.deselect()\n",
    "\n",
    "\n",
    "Name.grid(row = 0, column = 0)\n",
    "Email.grid(row = 1, column = 0)\n",
    "Gender.grid(row=4, column=0)\n",
    "Male.grid(row=4, column=1)\n",
    "Female.grid(row=4, column=2)\n",
    "Country.grid(row=5, column=0)\n",
    "Country_choosen.grid(column=1,row=5)\n",
    "Programming.grid(row=6, column=0)\n",
    "box.grid(row=6,column=1)\n",
    "box2.grid(row=6,column=2)\n",
    "\n",
    " \n",
    "\n",
    "e1 = Entry(form)\n",
    "e2 = Entry(form)\n",
    " \n",
    "\n",
    "e1.grid(row = 0, column = 1)\n",
    "e2.grid(row = 1, column = 1)\n",
    "\n",
    "\n",
    "def button():\n",
    "    Success = Tk()\n",
    "    Success.geometry(\"300x300\")\n",
    "    Success.title(\"Success\")\n",
    "    Success.resizable(0,0)\n",
    "        \n",
    "    a = Label(Success, text=\"Successfully Registered\")\n",
    "    a.grid(column=50,row=50)\n",
    "    \n",
    "button=Button(form,text=\"Enter\",bg=\"white\",fg=\"black\", command=button)\n",
    "button.grid(row = 5, column = 5)\n",
    "\n",
    "mainloop()"
   ]
  },
  {
   "cell_type": "code",
   "execution_count": null,
   "id": "265cff3d",
   "metadata": {},
   "outputs": [],
   "source": []
  },
  {
   "cell_type": "code",
   "execution_count": null,
   "id": "b088e1c5",
   "metadata": {},
   "outputs": [],
   "source": []
  }
 ],
 "metadata": {
  "kernelspec": {
   "display_name": "Python 3 (ipykernel)",
   "language": "python",
   "name": "python3"
  },
  "language_info": {
   "codemirror_mode": {
    "name": "ipython",
    "version": 3
   },
   "file_extension": ".py",
   "mimetype": "text/x-python",
   "name": "python",
   "nbconvert_exporter": "python",
   "pygments_lexer": "ipython3",
   "version": "3.8.9"
  }
 },
 "nbformat": 4,
 "nbformat_minor": 5
}
